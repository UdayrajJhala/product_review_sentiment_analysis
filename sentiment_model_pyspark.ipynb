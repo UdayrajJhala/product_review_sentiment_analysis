{
 "cells": [
  {
   "cell_type": "markdown",
   "id": "15524885",
   "metadata": {},
   "source": [
    "# Sentiment analysis with PySpark + XGBoost\n",
    "This notebook loads `Dataset-SA.csv`, preprocesses the `Summary` text with PySpark (tokenize, stopwords, TF-IDF), converts features to numpy arrays, trains an XGBoost multiclass classifier on the `Sentiment` column (positive/negative/neutral), and evaluates the model.\n",
    "\n",
    "Notes: set JAVA_HOME for Spark — this notebook sets it to the path you provided. If you already have Spark installed separately, you can adjust accordingly."
   ]
  },
  {
   "cell_type": "code",
   "execution_count": 1,
   "id": "5148b69f",
   "metadata": {},
   "outputs": [
    {
     "name": "stdout",
     "output_type": "stream",
     "text": [
      "Dependencies ensured.\n"
     ]
    }
   ],
   "source": [
    "# Install dependencies if missing (will use the current Python interpreter)\n",
    "import sys, subprocess\n",
    "packages = ['pyspark', 'xgboost', 'scikit-learn', 'pandas', 'matplotlib', 'seaborn', 'joblib', 'findspark']\n",
    "for p in packages:\n",
    "    try:\n",
    "        __import__(p if p != 'scikit-learn' else 'sklearn')\n",
    "    except Exception:\n",
    "        print(f'Installing {p}...')\n",
    "        subprocess.check_call([sys.executable, '-m', 'pip', 'install', p])\n",
    "print('Dependencies ensured.')"
   ]
  },
  {
   "cell_type": "code",
   "execution_count": 2,
   "id": "1cbd0cf5",
   "metadata": {},
   "outputs": [
    {
     "name": "stdout",
     "output_type": "stream",
     "text": [
      "JAVA_HOME set to C:\\Program Files\\Eclipse Adoptium\\jdk-17.0.16.8-hotspot\n",
      "findspark initialized\n"
     ]
    }
   ],
   "source": [
    "# Set JAVA_HOME (Windows) to a Java 17 JDK and update PATH for this notebook session\n",
    "import os\n",
    "# Use Eclipse Adoptium JDK 17 which is typically compatible with Spark\n",
    "java_path = r'C:\\Program Files\\Eclipse Adoptium\\jdk-17.0.16.8-hotspot'\n",
    "os.environ['JAVA_HOME'] = java_path\n",
    "# Prepend the chosen Java bin to PATH so this Python process (and Spark) uses it\n",
    "java_bin = os.path.join(java_path, 'bin')\n",
    "# Put java_bin first in PATH (avoid duplicates)\n",
    "path_parts = [p for p in os.environ.get('PATH','').split(os.pathsep) if p and p.lower() != java_bin.lower()]\n",
    "os.environ['PATH'] = java_bin + os.pathsep + os.pathsep.join(path_parts)\n",
    "print('JAVA_HOME set to', os.environ['JAVA_HOME'])\n",
    "# Initialize findspark (helps locate spark when installed externally)\n",
    "import findspark\n",
    "try:\n",
    "    findspark.init()\n",
    "    print('findspark initialized')\n",
    "except Exception as e:\n",
    "    print('findspark init had an issue (this is OK if using pyspark pip package):', e)"
   ]
  },
  {
   "cell_type": "code",
   "execution_count": 3,
   "id": "8f8a2024",
   "metadata": {},
   "outputs": [
    {
     "name": "stdout",
     "output_type": "stream",
     "text": [
      "JAVA_HOME = C:\\Program Files\\Eclipse Adoptium\\jdk-17.0.16.8-hotspot\n",
      "Candidate java executable: C:\\Program Files\\Eclipse Adoptium\\jdk-17.0.16.8-hotspot\\bin\\java.exe exists= True\n",
      "---- java -version output ----\n",
      "openjdk version \"17.0.16\" 2025-07-15\n",
      "OpenJDK Runtime Environment Temurin-17.0.16+8 (build 17.0.16+8)\n",
      "OpenJDK 64-Bit Server VM Temurin-17.0.16+8 (build 17.0.16+8, mixed mode, sharing)\n",
      "\n",
      "PATH entries containing java/jdk:\n",
      " - C:\\Program Files\\Eclipse Adoptium\\jdk-17.0.16.8-hotspot\\bin\n",
      " - C:\\Program Files\\Java\\jdk-24.0.2\\bin\n",
      " - C:\\Program Files\\Eclipse Adoptium\\jdk-17.0.16.8-hotspot\\\\bin\n",
      " - C:\\Program Files\\Java\\jdk-24.0.2\\bin\n",
      " - C:\\Users\\udayj\\AppData\\Local\\Programs\\Eclipse Adoptium\\jdk-17.0.7.7-hotspot\\bin\n",
      " - C:\\Program Files\\Java\\jdk-20\\bin\n",
      " - C:\\Program Files\\Java\\jdk-24.0.2\\bin\n",
      " - C:\\Program Files\\Eclipse Adoptium\\jdk-17.0.16.8-hotspot\\\\bin\n",
      " - C:\\Program Files\\Java\\jdk-24.0.2\\bin\n",
      " - C:\\Users\\udayj\\AppData\\Local\\Programs\\Eclipse Adoptium\\jdk-17.0.7.7-hotspot\\bin\n",
      " - C:\\Program Files\\Java\\jdk-20\\bin\n",
      "\n",
      "pyspark import OK; location: C:\\Users\\udayj\\AppData\\Roaming\\Python\\Python311\\site-packages\\pyspark\\__init__.py\n",
      "Python executable: c:\\Users\\udayj\\AppData\\Local\\Programs\\Python\\Python311\\python.exe\n",
      "\n",
      "Note: Spark is most compatible with Java 8, 11, or 17 in many builds. If your JDK is newer (e.g. 19+ or 24), consider installing JDK 17 and pointing JAVA_HOME to it.\n"
     ]
    }
   ],
   "source": [
    "# Diagnostic: check Java and environment for Spark (helps debug Py4JJavaError)\n",
    "import os, subprocess, sys\n",
    "print('JAVA_HOME =', os.environ.get('JAVA_HOME'))\n",
    "java_exec = os.path.join(os.environ.get('JAVA_HOME',''), 'bin', 'java.exe')\n",
    "print('Candidate java executable:', java_exec, 'exists=', os.path.exists(java_exec))\n",
    "try:\n",
    "    p = subprocess.run(['java','-version'], capture_output=True, text=True)\n",
    "    # java prints version info to stderr usually\n",
    "    print('---- java -version output ----')\n",
    "    print(p.stderr.strip() if p.stderr else p.stdout.strip())\n",
    "except Exception as e:\n",
    "    print('Error running java -version:', e)\n",
    "print()\n",
    "print('PATH entries containing java/jdk:')\n",
    "for p in os.environ.get('PATH','').split(os.pathsep):\n",
    "    if 'java' in p.lower() or 'jdk' in p.lower():\n",
    "        print(' -', p)\n",
    "print()\n",
    "# Check pyspark availability (may not be installed yet)\n",
    "try:\n",
    "    import pyspark\n",
    "    print('pyspark import OK; location:', getattr(pyspark, '__file__', None))\n",
    "except Exception as e:\n",
    "    print('pyspark import failed:', e)\n",
    "print('Python executable:', sys.executable)\n",
    "print('\\nNote: Spark is most compatible with Java 8, 11, or 17 in many builds. If your JDK is newer (e.g. 19+ or 24), consider installing JDK 17 and pointing JAVA_HOME to it.')"
   ]
  },
  {
   "cell_type": "code",
   "execution_count": 4,
   "id": "072f6bad",
   "metadata": {},
   "outputs": [
    {
     "name": "stdout",
     "output_type": "stream",
     "text": [
      "Spark version: 3.3.0\n"
     ]
    }
   ],
   "source": [
    "# Start a Spark session\n",
    "from pyspark.sql import SparkSession\n",
    "spark = (SparkSession.builder\n",
    "         .appName('Sentiment-XGBoost')\n",
    "         .config('spark.driver.memory', '4g')\n",
    "         .getOrCreate())\n",
    "print('Spark version:', spark.version)"
   ]
  },
  {
   "cell_type": "code",
   "execution_count": 5,
   "id": "6edfc14a",
   "metadata": {},
   "outputs": [
    {
     "name": "stdout",
     "output_type": "stream",
     "text": [
      "Rows: 205052\n",
      "root\n",
      " |-- product_name: string (nullable = true)\n",
      " |-- product_price: string (nullable = true)\n",
      " |-- Rate: string (nullable = true)\n",
      " |-- Review: string (nullable = true)\n",
      " |-- Summary: string (nullable = true)\n",
      " |-- Sentiment: string (nullable = true)\n",
      "\n",
      "+----------------------------------------------------------------------------------------------+---------+\n",
      "|                                                                                       Summary|Sentiment|\n",
      "+----------------------------------------------------------------------------------------------+---------+\n",
      "|great cooler excellent air flow and for this price its so amazing and unbelievablejust love it| positive|\n",
      "|                                                         best budget 2 fit cooler nice cooling| positive|\n",
      "|                                            the quality is good but the power of air is decent| positive|\n",
      "|                                                             very bad product its a only a fan| negative|\n",
      "|                                                                                 ok ok product|  neutral|\n",
      "+----------------------------------------------------------------------------------------------+---------+\n",
      "only showing top 5 rows\n",
      "\n"
     ]
    }
   ],
   "source": [
    "# Load the CSV (assumes file is in the workspace root)\n",
    "# Try with proper CSV options to handle quotes and delimiters correctly\n",
    "data_path = r'D:\\product_review_sentiment_analysis\\Dataset-SA.csv'\n",
    "df = spark.read \\\n",
    "    .option('header', 'true') \\\n",
    "    .option('inferSchema', 'true') \\\n",
    "    .option('quote', '\"') \\\n",
    "    .option('escape', '\"') \\\n",
    "    .option('multiLine', 'true') \\\n",
    "    .csv(data_path)\n",
    "print('Rows:', df.count())\n",
    "df.printSchema()\n",
    "df.select('Summary', 'Sentiment').show(5, truncate=200)"
   ]
  },
  {
   "cell_type": "code",
   "execution_count": 12,
   "id": "7b467ac2",
   "metadata": {},
   "outputs": [
    {
     "name": "stdout",
     "output_type": "stream",
     "text": [
      "After dropna rows: 205041\n",
      "\n",
      "All unique sentiments found:\n",
      "+--------------------+------+\n",
      "|           Sentiment| count|\n",
      "+--------------------+------+\n",
      "|            positive|166527|\n",
      "|            negative| 28227|\n",
      "|             neutral| 10229|\n",
      "|                good|     6|\n",
      "|                nice|     5|\n",
      "|           excellent|     2|\n",
      "|               super|     2|\n",
      "|           very good|     1|\n",
      "|        nice product|     1|\n",
      "|        very awasome|     1|\n",
      "|its same as shown...|     1|\n",
      "|            nice one|     1|\n",
      "|     this is amazing|     1|\n",
      "|                 bad|     1|\n",
      "|best for beginner...|     1|\n",
      "|this is very much...|     1|\n",
      "|it great my boyfr...|     1|\n",
      "|this product is a...|     1|\n",
      "|            worth it|     1|\n",
      "|back wheel bearin...|     1|\n",
      "|my daughter is ve...|     1|\n",
      "|        best quality|     1|\n",
      "|the bicycle was good|     1|\n",
      "|all over good pro...|     1|\n",
      "|                  ok|     1|\n",
      "|it is very bad sk...|     1|\n",
      "|cycle product is ...|     1|\n",
      "|               supar|     1|\n",
      "|very nice but the...|     1|\n",
      "|nice product but ...|     1|\n",
      "|superb design and...|     1|\n",
      "|quality is below ...|     1|\n",
      "|nice product very...|     1|\n",
      "|nice product and ...|     1|\n",
      "|            good one|     1|\n",
      "|        good product|     1|\n",
      "|quality is good b...|     1|\n",
      "|very very nice an...|     1|\n",
      "|finishing is not ...|     1|\n",
      "|   material not good|     1|\n",
      "| excellent kid cycle|     1|\n",
      "|    valuable product|     1|\n",
      "|best money best p...|     1|\n",
      "|  very good products|     1|\n",
      "|it is a ok produc...|     1|\n",
      "|iam not satisfied...|     1|\n",
      "|good design and a...|     1|\n",
      "|not good qualityb...|     1|\n",
      "|         bad quality|     1|\n",
      "|its fabulous wort...|     1|\n",
      "+--------------------+------+\n",
      "\n",
      "\n",
      "Rows after filtering to main sentiments: 204983\n",
      "\n",
      "Filtered sentiment distribution:\n",
      "+---------+------+\n",
      "|Sentiment| count|\n",
      "+---------+------+\n",
      "| positive|166527|\n",
      "|  neutral| 10229|\n",
      "| negative| 28227|\n",
      "+---------+------+\n",
      "\n",
      "\n",
      "Rows after filtering to main sentiments: 204983\n",
      "\n",
      "Filtered sentiment distribution:\n",
      "+---------+------+\n",
      "|Sentiment| count|\n",
      "+---------+------+\n",
      "| positive|166527|\n",
      "|  neutral| 10229|\n",
      "| negative| 28227|\n",
      "+---------+------+\n",
      "\n"
     ]
    }
   ],
   "source": [
    "# Select needed columns and drop nulls\n",
    "df2 = df.select('Summary', 'Sentiment').na.drop()\n",
    "print('After dropna rows:', df2.count())\n",
    "# Quick class balance check BEFORE filtering\n",
    "print('\\nAll unique sentiments found:')\n",
    "df2.groupBy('Sentiment').count().orderBy('count', ascending=False).show(50)\n",
    "\n",
    "# Filter to keep only the main sentiment categories (case-insensitive)\n",
    "from pyspark.sql import functions as F\n",
    "df2_filtered = df2.filter(\n",
    "    F.lower(F.col('Sentiment')).isin(['positive', 'negative', 'neutral'])\n",
    ")\n",
    "print(f'\\nRows after filtering to main sentiments: {df2_filtered.count()}')\n",
    "print('\\nFiltered sentiment distribution:')\n",
    "df2_filtered.groupBy('Sentiment').count().show()\n",
    "\n",
    "# Use filtered dataframe\n",
    "df2 = df2_filtered"
   ]
  },
  {
   "cell_type": "code",
   "execution_count": 13,
   "id": "d7ea3f32",
   "metadata": {},
   "outputs": [
    {
     "name": "stdout",
     "output_type": "stream",
     "text": [
      "+-----------------------------------------------------------------------------------------------------------------------------------------------------------------------------------------------------------------------------------+-----+\n",
      "|features                                                                                                                                                                                                                           |label|\n",
      "+-----------------------------------------------------------------------------------------------------------------------------------------------------------------------------------------------------------------------------------+-----+\n",
      "|(65536,[2860,4778,5809,13209,15563,18264,32888,55408,65262],[4.039501201651304,3.1676874222166194,7.477097015187728,3.5626631251752716,6.137117436248957,10.844392845174202,5.607950882344253,4.187345035852485,3.934390093651586])|0.0  |\n",
      "|(65536,[2292,12524,15563,22346,34955,37756,63983],[6.0994607168109525,4.648967566168785,6.137117436248957,1.6435726465821787,2.9996622431250777,5.619991161576333,5.252473463663394])                                              |0.0  |\n",
      "|(65536,[13360,32168,32888,43890,47896],[5.315956313575531,5.90991891204351,5.607950882344253,2.176368764055381,1.0003899394729663])                                                                                                |0.0  |\n",
      "|(65536,[14308,44974,52879],[3.288618513249868,5.657007039333447,1.2860575922444053])                                                                                                                                               |1.0  |\n",
      "|(65536,[1589,52879],[7.634156662268852,1.2860575922444053])                                                                                                                                                                        |2.0  |\n",
      "+-----------------------------------------------------------------------------------------------------------------------------------------------------------------------------------------------------------------------------------+-----+\n",
      "only showing top 5 rows\n",
      "\n"
     ]
    }
   ],
   "source": [
    "# Build PySpark ML pipeline: tokenize, remove stopwords, TF-IDF, label index\n",
    "from pyspark.ml import Pipeline\n",
    "from pyspark.ml.feature import RegexTokenizer, StopWordsRemover, HashingTF, IDF, StringIndexer\n",
    "from pyspark.ml.feature import VectorAssembler\n",
    "from pyspark.sql import functions as F\n",
    "\n",
    "# Basic text cleaning: lower-case using built-in PySpark function (avoids UDF serialization issues)\n",
    "df3 = df2.withColumn('text', F.lower(F.coalesce(F.col('Summary'), F.lit(''))))\n",
    "\n",
    "regex_tokenizer = RegexTokenizer(inputCol='text', outputCol='tokens', pattern='\\\\W+')\n",
    "stopwords_remover = StopWordsRemover(inputCol='tokens', outputCol='filtered')\n",
    "hashing_tf = HashingTF(inputCol='filtered', outputCol='rawFeatures', numFeatures=1<<16)\n",
    "idf = IDF(inputCol='rawFeatures', outputCol='features')\n",
    "label_indexer = StringIndexer(inputCol='Sentiment', outputCol='label').fit(df3)\n",
    "\n",
    "pipeline = Pipeline(stages=[regex_tokenizer, stopwords_remover, hashing_tf, idf, label_indexer])\n",
    "pipeline_model = pipeline.fit(df3)\n",
    "df_transformed = pipeline_model.transform(df3).select('features', 'label')\n",
    "df_transformed.show(5, truncate=False)"
   ]
  },
  {
   "cell_type": "code",
   "execution_count": 14,
   "id": "0806dbe5",
   "metadata": {},
   "outputs": [
    {
     "name": "stdout",
     "output_type": "stream",
     "text": [
      "Train rows: 164294 Test rows: 40689\n"
     ]
    }
   ],
   "source": [
    "# Train-test split\n",
    "train_df, test_df = df_transformed.randomSplit([0.8, 0.2], seed=42)\n",
    "print('Train rows:', train_df.count(), 'Test rows:', test_df.count())"
   ]
  },
  {
   "cell_type": "code",
   "execution_count": 15,
   "id": "19a1f2c0",
   "metadata": {},
   "outputs": [
    {
     "name": "stdout",
     "output_type": "stream",
     "text": [
      "Train rows: 164294 Test rows: 40689\n"
     ]
    }
   ],
   "source": [
    "# Cache the data for faster training (no need to convert to numpy - use PySpark ML directly)\n",
    "train_df.cache()\n",
    "test_df.cache()\n",
    "print('Train rows:', train_df.count(), 'Test rows:', test_df.count())"
   ]
  },
  {
   "cell_type": "code",
   "execution_count": 16,
   "id": "9f018c45",
   "metadata": {},
   "outputs": [
    {
     "name": "stdout",
     "output_type": "stream",
     "text": [
      "+-----------------------------------------------------------------------------------------------------------------------------------------------------------------------------------------------------------------------------------------------------------------------------------------------------------------------------------------------------------------------------------------------------------------------------------------------------------------------------------------------------------------------------------------------------------------------------------------------------------------------------------------------------------------------------------------------------------------------------------------------------------------------------------------------------------------------------------------------------------------------------------------------------------------------------------------------------------------------------------------------------------------------------------------------------------------------------------------------------------------------------------------------------------------------------------------+-----+----------+----------------------------------------------------------------+\n",
      "|features                                                                                                                                                                                                                                                                                                                                                                                                                                                                                                                                                                                                                                                                                                                                                                                                                                                                                                                                                                                                                                                                                                                                                                                 |label|prediction|probability                                                     |\n",
      "+-----------------------------------------------------------------------------------------------------------------------------------------------------------------------------------------------------------------------------------------------------------------------------------------------------------------------------------------------------------------------------------------------------------------------------------------------------------------------------------------------------------------------------------------------------------------------------------------------------------------------------------------------------------------------------------------------------------------------------------------------------------------------------------------------------------------------------------------------------------------------------------------------------------------------------------------------------------------------------------------------------------------------------------------------------------------------------------------------------------------------------------------------------------------------------------------+-----+----------+----------------------------------------------------------------+\n",
      "|(65536,[],[])                                                                                                                                                                                                                                                                                                                                                                                                                                                                                                                                                                                                                                                                                                                                                                                                                                                                                                                                                                                                                                                                                                                                                                            |2.0  |0.0       |[0.7469518618181435,0.15976318395367808,0.09328495422817829]    |\n",
      "|(65536,[5,6781,13692,15563,17603,21737,41092,51272,55743],[10.844392845174202,5.657007039333447,4.513781070995704,6.137117436248957,3.8195214195233853,3.8483977773426568,5.205148891655572,4.696993496445461,3.1961298142722825])                                                                                                                                                                                                                                                                                                                                                                                                                                                                                                                                                                                                                                                                                                                                                                                                                                                                                                                                                       |1.0  |1.0       |[0.37472072693911557,0.6154193559638083,0.009859917097076136]   |\n",
      "|(65536,[12,1226,1546,4778,5020,6270,8053,9704,13209,17159,17808,17894,23292,32062,37139,39483,39532,39746,43890,47896,48443,52663,58662,62070],[8.898482696118888,5.168495574007537,5.11267100182876,3.1676874222166194,8.898482696118888,6.516954400784724,9.18616476857067,5.104599932994968,3.5626631251752716,7.968007329252777,6.173903193065469,9.234954932740102,8.205335515558943,6.462366210500321,6.407641310811074,5.926238403872111,7.708898629245052,5.865936449442182,2.176368764055381,2.0007798789459326,4.549126843734556,7.982191964244734,3.8331788578238353,5.4564633199364785])                                                                                                                                                                                                                                                                                                                                                                                                                                                                                                                                                                                     |0.0  |0.0       |[0.9999603249927754,1.603429488753179E-5,2.364071233699684E-5]  |\n",
      "|(65536,[19,124,367,737,4778,7821,11995,13155,13869,15600,17625,18214,22057,22444,24997,26578,28392,29290,29663,30030,32203,32345,32518,35840,37691,39195,39350,40672,45490,46369,47896,48436,49403,50249,50806,51247,55364,57300,57636,57959,58682,60016,60081,61142,61559,63730,64807],[8.011179501117986,9.928102113300048,10.621249293859993,8.517115139589785,3.1676874222166194,6.58878013535598,8.829489824631937,11.132074917625983,11.132074917625983,6.401741588683886,5.111051568276457,10.438927737066038,9.234954932740102,11.132074917625983,9.011811381425892,15.134496224364051,6.375615284091666,4.439577695684066,6.758416532622618,6.792607897370898,10.151245664614256,10.844392845174202,8.223354021061622,6.139377324216395,6.192816286371955,4.4908927478853915,15.417797258490104,8.764951303494366,10.438927737066038,10.284777057238779,2.0007798789459326,5.66965654039752,8.402045809804997,5.039257876257714,15.374784848048177,3.9829433190685766,10.844392845174202,10.438927737066038,6.750048282952101,8.298861573569766,11.132074917625983,8.119813342120782,7.130820778469895,6.507102104341712,4.996510026544245,5.386937257287868,9.928102113300048])|0.0  |0.0       |[0.9993711438127311,6.2660040022758E-4,2.2557870415369282E-6]   |\n",
      "|(65536,[19,1903,4215,19400,20199,22022,24698,36262,37359,40150,43756,44141,45190,47050,49123,49341,55408,57807,58227,60458],[16.022359002235973,6.775366090936392,8.541807752180157,3.9175705034748396,4.291528388337296,7.742050836561953,4.6700860435255365,4.4520570589682835,5.900966300771397,5.76143688949832,9.146808826631805,6.828009824421813,7.378656942374476,5.557389238526439,6.87410093162208,5.165073842696375,4.187345035852485,6.564260518181661,7.0489036560020075,8.734179644827613])                                                                                                                                                                                                                                                                                                                                                                                                                                                                                                                                                                                                                                                                                |0.0  |0.0       |[0.7654379027503636,0.2010858503705965,0.03347624687903989]     |\n",
      "|(65536,[19,2981,5266,5914,13297,15960,17603,21737,24707,27115,29989,34006,35296,41861,43756,43894,48436,52879,57453],[8.011179501117986,7.539339324064949,6.246750925606903,3.7108973890305896,6.369900982828227,13.999157178879013,3.8195214195233853,3.8483977773426568,6.008110938222725,4.875046103319839,4.869947303235815,8.46948709060053,5.305092009183625,7.968007329252777,4.573404413315902,4.871856307951739,5.66965654039752,2.5721151844888106,9.936117210639702])                                                                                                                                                                                                                                                                                                                                                                                                                                                                                                                                                                                                                                                                                                         |1.0  |1.0       |[2.161950992640452E-5,0.9999705242413678,7.856248705738604E-6]  |\n",
      "|(65536,[19,17152,23071,32484,34793,47896,52879],[8.011179501117986,3.355400078185709,5.933577886360157,8.056299936398455,5.668243112600373,3.001169818418899,1.2860575922444053])                                                                                                                                                                                                                                                                                                                                                                                                                                                                                                                                                                                                                                                                                                                                                                                                                                                                                                                                                                                                        |0.0  |0.0       |[0.9994020726458276,3.7107154144500434E-4,2.2685581272744124E-4]|\n",
      "|(65536,[32,4529,13209,17270,32799,33614,43890,60658,62070],[8.08755247990256,5.294344470460043,3.5626631251752716,6.392956759128153,4.606068220134694,6.010097036194353,2.176368764055381,6.927382298235017,5.4564633199364785])                                                                                                                                                                                                                                                                                                                                                                                                                                                                                                                                                                                                                                                                                                                                                                                                                                                                                                                                                         |0.0  |0.0       |[0.9988179065529379,9.50835998816152E-4,2.3125744824600104E-4]  |\n",
      "|(65536,[56,3639,6122,6661,11233,18913,22002,26293,27030,50767,52879,61037],[11.537540025734147,3.161910398639697,5.445099561286163,7.1808311990445555,7.557858371832187,11.132074917625983,5.837096452343461,7.426666161560837,5.833757551077946,6.456135660749685,1.2860575922444053,6.028151689106171])                                                                                                                                                                                                                                                                                                                                                                                                                                                                                                                                                                                                                                                                                                                                                                                                                                                                                |1.0  |1.0       |[4.213154370256287E-4,0.9993977928646979,1.8089169827644955E-4] |\n",
      "|(65536,[61,3191,4948,5001,6330,10047,11159,11650,12650,16296,17251,19247,20125,20435,21737,26997,27115,36262,36344,37518,40873,41068,47896,55501,55639,61580,62820],[10.844392845174202,6.733518981000891,5.036250355193759,7.764779087639509,7.100788491371019,10.284777057238779,10.438927737066038,3.7122947343023736,5.804198748836402,10.151245664614256,6.325325358239523,8.647168267837984,8.829489824631937,11.537540025734147,3.8483977773426568,7.477097015187728,4.875046103319839,4.4520570589682835,10.844392845174202,5.001573328500791,7.65597622779071,8.119813342120782,1.0003899394729663,7.861239353827071,5.843807886931448,5.933577886360157,7.776339910040585])                                                                                                                                                                                                                                                                                                                                                                                                                                                                                                    |1.0  |0.0       |[0.8056124662564986,0.18972446255154823,0.004663071191953256]   |\n",
      "+-----------------------------------------------------------------------------------------------------------------------------------------------------------------------------------------------------------------------------------------------------------------------------------------------------------------------------------------------------------------------------------------------------------------------------------------------------------------------------------------------------------------------------------------------------------------------------------------------------------------------------------------------------------------------------------------------------------------------------------------------------------------------------------------------------------------------------------------------------------------------------------------------------------------------------------------------------------------------------------------------------------------------------------------------------------------------------------------------------------------------------------------------------------------------------------------+-----+----------+----------------------------------------------------------------+\n",
      "only showing top 10 rows\n",
      "\n",
      "\n",
      "Accuracy: 0.9059\n",
      "\n",
      "Accuracy: 0.9059\n",
      "F1 Score: 0.9006\n",
      "F1 Score: 0.9006\n",
      "\n",
      "Number of classes: 3\n",
      "Label names: ['positive', 'negative', 'neutral']\n",
      "Unique labels in test set: [0, 1, 2]\n",
      "\n",
      "Classification Report:\n",
      "              precision    recall  f1-score   support\n",
      "\n",
      "    positive       0.93      0.97      0.95     33021\n",
      "    negative       0.81      0.69      0.75      5608\n",
      "     neutral       0.63      0.44      0.52      2060\n",
      "\n",
      "    accuracy                           0.91     40689\n",
      "   macro avg       0.79      0.70      0.74     40689\n",
      "weighted avg       0.90      0.91      0.90     40689\n",
      "\n",
      "\n",
      "Number of classes: 3\n",
      "Label names: ['positive', 'negative', 'neutral']\n",
      "Unique labels in test set: [0, 1, 2]\n",
      "\n",
      "Classification Report:\n",
      "              precision    recall  f1-score   support\n",
      "\n",
      "    positive       0.93      0.97      0.95     33021\n",
      "    negative       0.81      0.69      0.75      5608\n",
      "     neutral       0.63      0.44      0.52      2060\n",
      "\n",
      "    accuracy                           0.91     40689\n",
      "   macro avg       0.79      0.70      0.74     40689\n",
      "weighted avg       0.90      0.91      0.90     40689\n",
      "\n"
     ]
    },
    {
     "data": {
      "image/png": "[encoded data removed]",
      "text/plain": [
       "<Figure size 800x600 with 2 Axes>"
      ]
     },
     "metadata": {},
     "output_type": "display_data"
    }
   ],
   "source": [
    "# Train PySpark Logistic Regression (distributed, no memory issues)\n",
    "from pyspark.ml.classification import LogisticRegression\n",
    "from pyspark.ml.evaluation import MulticlassClassificationEvaluator\n",
    "\n",
    "# Train Logistic Regression model\n",
    "lr = LogisticRegression(featuresCol='features', labelCol='label', maxIter=100, regParam=0.01)\n",
    "lr_model = lr.fit(train_df)\n",
    "\n",
    "# Make predictions\n",
    "predictions = lr_model.transform(test_df)\n",
    "predictions.select('features', 'label', 'prediction', 'probability').show(10, truncate=False)\n",
    "\n",
    "# Evaluate accuracy\n",
    "evaluator = MulticlassClassificationEvaluator(labelCol='label', predictionCol='prediction', metricName='accuracy')\n",
    "accuracy = evaluator.evaluate(predictions)\n",
    "print(f'\\nAccuracy: {accuracy:.4f}')\n",
    "\n",
    "# Additional metrics\n",
    "evaluator_f1 = MulticlassClassificationEvaluator(labelCol='label', predictionCol='prediction', metricName='f1')\n",
    "f1_score = evaluator_f1.evaluate(predictions)\n",
    "print(f'F1 Score: {f1_score:.4f}')\n",
    "\n",
    "# Collect predictions for confusion matrix (only if dataset is manageable)\n",
    "from sklearn.metrics import classification_report, confusion_matrix\n",
    "import numpy as np\n",
    "\n",
    "pred_and_labels = predictions.select('prediction', 'label').collect()\n",
    "y_pred = np.array([row['prediction'] for row in pred_and_labels])\n",
    "y_true = np.array([row['label'] for row in pred_and_labels])\n",
    "\n",
    "# Get label names from the StringIndexer\n",
    "label_names = label_indexer.labels\n",
    "print(f'\\nNumber of classes: {len(label_names)}')\n",
    "print(f'Label names: {label_names}')\n",
    "\n",
    "# Get unique labels that actually appear in predictions\n",
    "unique_labels = np.unique(np.concatenate([y_true, y_pred]))\n",
    "print(f'Unique labels in test set: {sorted(unique_labels.astype(int))}')\n",
    "\n",
    "# Use only the labels that appear in the predictions\n",
    "active_label_names = [label_names[int(i)] for i in unique_labels]\n",
    "\n",
    "print('\\nClassification Report:')\n",
    "print(classification_report(y_true, y_pred, labels=unique_labels, target_names=active_label_names))\n",
    "\n",
    "# Confusion Matrix\n",
    "import matplotlib.pyplot as plt\n",
    "import seaborn as sns\n",
    "cm = confusion_matrix(y_true, y_pred, labels=unique_labels)\n",
    "plt.figure(figsize=(8,6))\n",
    "sns.heatmap(cm, annot=True, fmt='d', cmap='Blues', xticklabels=active_label_names, yticklabels=active_label_names)\n",
    "plt.xlabel('Predicted')\n",
    "plt.ylabel('True')\n",
    "plt.title('Confusion Matrix')\n",
    "plt.tight_layout()\n",
    "plt.show()"
   ]
  },
  {
   "cell_type": "code",
   "execution_count": 23,
   "id": "5e50dd1d",
   "metadata": {},
   "outputs": [
    {
     "name": "stdout",
     "output_type": "stream",
     "text": [
      "✅ MODEL SAVED!\n",
      "\n",
      "📁 File: D:\\product_review_sentiment_analysis\\saved_model\\sentiment_model.pkl\n",
      "📦 Size: 1.50 MB\n",
      "\n",
      "======================================================================\n",
      "MODEL PACKAGE CONTENTS:\n",
      "======================================================================\n",
      "✓ Coefficients matrix: (3, 65536)\n",
      "✓ Intercepts: (3,)\n",
      "✓ Classes: ['positive', 'negative', 'neutral']\n",
      "✓ Accuracy: 90.59%\n",
      "✓ F1 Score: 90.06%\n",
      "\n",
      "💾 To use later:\n",
      "   import pickle\n",
      "   with open(r\"D:\\product_review_sentiment_analysis\\saved_model\\sentiment_model.pkl\", \"rb\") as f:\n",
      "       model = pickle.load(f)\n",
      "   labels = model[\"labels\"]\n",
      "   coefficients = model[\"coefficients\"]\n"
     ]
    }
   ],
   "source": [
    "# Save model as a pickle file for easy loading later\n",
    "import pickle\n",
    "import os\n",
    "\n",
    "save_dir = r'D:\\product_review_sentiment_analysis\\saved_model'\n",
    "os.makedirs(save_dir, exist_ok=True)\n",
    "\n",
    "# Extract everything needed for inference into a simple dict\n",
    "model_package = {\n",
    "    'coefficients': lr_model.coefficientMatrix.toArray(),\n",
    "    'intercept': lr_model.interceptVector.toArray(),\n",
    "    'num_classes': lr_model.numClasses,\n",
    "    'num_features': lr_model.numFeatures,\n",
    "    'labels': label_indexer.labels,\n",
    "    'accuracy': accuracy,\n",
    "    'f1_score': f1_score\n",
    "}\n",
    "\n",
    "# Save as pickle file\n",
    "model_file = os.path.join(save_dir, 'sentiment_model.pkl')\n",
    "with open(model_file, 'wb') as f:\n",
    "    pickle.dump(model_package, f)\n",
    "\n",
    "file_size_mb = os.path.getsize(model_file) / (1024 * 1024)\n",
    "print(f'✅ MODEL SAVED!')\n",
    "print(f'\\n📁 File: {model_file}')\n",
    "print(f'📦 Size: {file_size_mb:.2f} MB')\n",
    "\n",
    "# Also save labels as text for quick reference\n",
    "label_file = os.path.join(save_dir, 'labels.txt')\n",
    "with open(label_file, 'w') as f:\n",
    "    for idx, label in enumerate(label_indexer.labels):\n",
    "        f.write(f'{idx}: {label}\\n')\n",
    "\n",
    "print('\\n' + '='*70)\n",
    "print('MODEL PACKAGE CONTENTS:')\n",
    "print('='*70)\n",
    "print(f'✓ Coefficients matrix: {model_package[\"coefficients\"].shape}')\n",
    "print(f'✓ Intercepts: {model_package[\"intercept\"].shape}')\n",
    "print(f'✓ Classes: {model_package[\"labels\"]}')\n",
    "print(f'✓ Accuracy: {accuracy:.2%}')\n",
    "print(f'✓ F1 Score: {f1_score:.2%}')\n",
    "print('\\n💾 To use later:')\n",
    "print('   import pickle')\n",
    "print(f'   with open(r\"{model_file}\", \"rb\") as f:')\n",
    "print('       model = pickle.load(f)')\n",
    "print('   labels = model[\"labels\"]')\n",
    "print('   coefficients = model[\"coefficients\"]')"
   ]
  }
 ],
 "metadata": {
  "kernelspec": {
   "display_name": "Python 3",
   "language": "python",
   "name": "python3"
  },
  "language_info": {
   "codemirror_mode": {
    "name": "ipython",
    "version": 3
   },
   "file_extension": ".py",
   "mimetype": "text/x-python",
   "name": "python",
   "nbconvert_exporter": "python",
   "pygments_lexer": "ipython3",
   "version": "3.11.4"
  }
 },
 "nbformat": 4,
 "nbformat_minor": 5
}
